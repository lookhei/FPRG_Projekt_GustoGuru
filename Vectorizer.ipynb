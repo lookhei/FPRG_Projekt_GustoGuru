{
  "nbformat": 4,
  "nbformat_minor": 0,
  "metadata": {
    "colab": {
      "provenance": []
    },
    "kernelspec": {
      "name": "python3",
      "display_name": "Python 3"
    },
    "language_info": {
      "name": "python"
    }
  },
  "cells": [
    {
      "cell_type": "code",
      "execution_count": null,
      "metadata": {
        "id": "UEVFflnxNrW8"
      },
      "outputs": [],
      "source": [
        "import os\n",
        "import pandas as pd\n",
        "import tempfile\n",
        "from tqdm import tqdm\n",
        "from sklearn.feature_extraction.text import TfidfVectorizer\n",
        "from sklearn.metrics.pairwise import cosine_similarity\n",
        "import numpy as np\n",
        "import json\n",
        "from scipy.sparse import csr_matrix\n",
        "import joblib\n"
      ]
    },
    {
      "cell_type": "code",
      "source": [
        "input_file = 'tfidf_data.json'\n",
        "with open(input_file, 'r') as f:\n",
        "    data = json.load(f)\n",
        "\n",
        "tfidf_data = data['tfidf']\n",
        "vocabulary = data['vocabulary']\n",
        "df = pd.DataFrame(data['df'])\n",
        "\n",
        "tfidf_matrix = csr_matrix((tfidf_data['data'], tfidf_data['indices'], tfidf_data['indptr']), shape=tfidf_data['shape'])"
      ],
      "metadata": {
        "id": "Q9Pd1M3yOAvx"
      },
      "execution_count": null,
      "outputs": []
    },
    {
      "cell_type": "code",
      "source": [
        "input_string = \"tomaten, knoblauch, hühnerbrust, käse, Brühe, Butter, Kräuter\"\n"
      ],
      "metadata": {
        "id": "QWRrF_-sOEFu"
      },
      "execution_count": null,
      "outputs": []
    },
    {
      "cell_type": "code",
      "source": [
        "\n",
        "# Gesamtvokabular erstellen\n",
        "vectorizer = TfidfVectorizer()\n",
        "vectorizer.fit(df['ing_LT'])\n",
        "vocabulary = vectorizer.vocabulary_\n",
        "\n",
        "# Schrittweise TF-IDF Vektorisierung und Ähnlichkeitsberechnung\n",
        "batch_size = 1000  # Batch-Größe anpassen\n",
        "num_batches = (len(df) + batch_size - 1) // batch_size\n",
        "\n",
        "# Erstellen eines temporären Verzeichnisses zum Speichern der Zwischenergebnisse\n",
        "temp_dir = tempfile.mkdtemp()\n",
        "\n",
        "# Initialisieren des TF-IDF-Vektors\n",
        "tfidf_matrix_files = []\n",
        "\n",
        "# Fortschrittsanzeige für die TF-IDF-Berechnung\n",
        "for i in tqdm(range(num_batches), desc=\"TF-IDF Vektorisierung\"):\n",
        "    start_idx = i * batch_size\n",
        "    end_idx = min((i + 1) * batch_size, len(df))\n",
        "    batch_vectorizer = TfidfVectorizer(vocabulary=vocabulary)\n",
        "    batch_tfidf = batch_vectorizer.fit_transform(df['ing_LT'].iloc[start_idx:end_idx])\n",
        "\n",
        "    # Speichern des Batches auf der Festplatte\n",
        "    batch_file = os.path.join(temp_dir, f'tfidf_batch_{i}.pkl')\n",
        "    joblib.dump(batch_tfidf, batch_file)\n",
        "    tfidf_matrix_files.append(batch_file)\n",
        "\n",
        "# Vektorisieren des Beispielstrings\n",
        "input_vectorizer = TfidfVectorizer(vocabulary=vocabulary)\n",
        "input_vector = input_vectorizer.fit_transform([input_string])\n",
        "\n",
        "# Berechnung der Ähnlichkeit stückweise mit Zwischenspeichern\n",
        "def compute_similarity_with_input(matrix_file, input_vector):\n",
        "    matrix = joblib.load(matrix_file)\n",
        "    sim = cosine_similarity(matrix, input_vector)\n",
        "    return sim\n",
        "\n",
        "# Berechnung der Ähnlichkeit für den Beispielstring mit allen Rezepten\n",
        "similarities = []\n",
        "for matrix_file in tfidf_matrix_files:\n",
        "    sim = compute_similarity_with_input(matrix_file, input_vector)\n",
        "    similarities.append(sim)\n",
        "\n",
        "similarities = np.vstack(similarities)\n",
        "\n",
        "# Finden der Top-N ähnlichen Rezepte\n",
        "def get_top_similar_recipes_to_input(similarities, top_n=1):\n",
        "    similarities = similarities.flatten()\n",
        "    similar_recipes_indices = similarities.argsort()[-top_n:][::-1]\n",
        "    return similar_recipes_indices\n",
        "\n",
        "# Top 5 ähnliche Rezepte für den Beispielstring finden\n",
        "top_n = 1\n",
        "similar_recipes_indices = get_top_similar_recipes_to_input(similarities, top_n)\n",
        "\n",
        "# Abrufen der ähnlichen Rezepte\n",
        "similar_recipes = df.iloc[similar_recipes_indices]\n",
        "\n",
        "print(\"Top ähnliches Rezept:\")\n",
        "print(similar_recipes)\n",
        "\n",
        "# Aufräumen: Löschen des temporären Verzeichnisses\n",
        "import shutil\n",
        "shutil.rmtree(temp_dir)"
      ],
      "metadata": {
        "colab": {
          "base_uri": "https://localhost:8080/"
        },
        "id": "nPfG7KGZOEIY",
        "outputId": "9bc25ff0-7a6c-4127-97f2-2b7772c09edb"
      },
      "execution_count": null,
      "outputs": [
        {
          "output_type": "stream",
          "name": "stderr",
          "text": [
            "TF-IDF Vektorisierung: 100%|██████████| 72/72 [00:19<00:00,  3.66it/s]\n"
          ]
        },
        {
          "output_type": "stream",
          "name": "stdout",
          "text": [
            "Top ähnliches Rezept:\n",
            "                name                                        ingredients  \\\n",
            "60643  Kräuterbutter  [{'name': 'Butter', 'amount': '250 g'}, {'name...   \n",
            "\n",
            "                                            instructions  rating  \\\n",
            "60643  Weiche Butter schaumig rühren. Die Knoblauchze...    4.63   \n",
            "\n",
            "       ratings_amount                                   ingredients_pure  \\\n",
            "60643           435.0  Butter, Knoblauch, Kräuter, gemischte, 8-Kräut...   \n",
            "\n",
            "                                                  ing_LT  \n",
            "60643  Butter Knoblauch Kräuter gemischt 8-Kräuter Sa...  \n"
          ]
        }
      ]
    },
    {
      "cell_type": "code",
      "source": [],
      "metadata": {
        "id": "lbn4jJ1UOEOW"
      },
      "execution_count": null,
      "outputs": []
    }
  ]
}