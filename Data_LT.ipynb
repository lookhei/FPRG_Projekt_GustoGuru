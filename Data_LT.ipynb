{
  "nbformat": 4,
  "nbformat_minor": 0,
  "metadata": {
    "colab": {
      "provenance": []
    },
    "kernelspec": {
      "name": "python3",
      "display_name": "Python 3"
    },
    "language_info": {
      "name": "python"
    }
  },
  "cells": [
    {
      "cell_type": "code",
      "execution_count": null,
      "metadata": {
        "id": "XEE-wojfl1_t"
      },
      "outputs": [],
      "source": [
        "import json\n",
        "import os\n",
        "import spacy\n",
        "import pandas as pd\n",
        "\n",
        "path = \"Data/all_data.pkl\"\n",
        "\n",
        "df = pd.read_pickle(path)"
      ]
    },
    {
      "cell_type": "code",
      "source": [
        "# Listen der Zutaten in Fließtext umwandeln\n",
        "def extract_names(ingredient_list):\n",
        "    if isinstance(ingredient_list, list):\n",
        "        try:\n",
        "            return [ingredient['name'] for ingredient in ingredient_list if 'name' in ingredient]\n",
        "        except TypeError:\n",
        "            return []\n",
        "    return []\n",
        "\n",
        "df['ingredients_pure'] = df['ingredients'].apply(extract_names)\n",
        "\n",
        "def list_to_string(name_list):\n",
        "    if isinstance(name_list, list):\n",
        "        return ', '.join(name_list)\n",
        "    return ''\n",
        "\n",
        "# Spalte mit Fließtext der Zutaten hinzufügen\n",
        "df['ingredients_pure'] = df['ingredients_pure'].apply(list_to_string)\n",
        "\n",
        "df.head()"
      ],
      "metadata": {
        "id": "s1kdgBiIl8XG"
      },
      "execution_count": null,
      "outputs": []
    },
    {
      "cell_type": "code",
      "source": [
        "# spaCy-Modell laden\n",
        "nlp = spacy.load(\"de_core_news_sm\")\n",
        "\n",
        "# Tokenisierungs- und Lemmatisierungsfunktion\n",
        "def tokenize_and_lemmatize(text):\n",
        "    doc = nlp(text)\n",
        "    return ' '.join([token.lemma_ for token in doc if not token.is_stop and not token.is_punct])\n",
        "\n",
        "# Anwenden auf die 'Bio'-Spalte\n",
        "df['ing_LT'] = df['ingredients_pure'].apply(tokenize_and_lemmatize)\n"
      ],
      "metadata": {
        "id": "sLrWhwKsl8Zl"
      },
      "execution_count": null,
      "outputs": []
    },
    {
      "cell_type": "code",
      "source": [
        "safe_path = 'Data/all_data_LT.pkl'\n",
        "\n",
        "df.to_pickle(safe_path)"
      ],
      "metadata": {
        "id": "26Sm9IHXl8cE"
      },
      "execution_count": null,
      "outputs": []
    }
  ]
}